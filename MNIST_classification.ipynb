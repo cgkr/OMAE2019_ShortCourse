{
  "nbformat": 4,
  "nbformat_minor": 0,
  "metadata": {
    "colab": {
      "name": "MNIST_classification.ipynb",
      "version": "0.3.2",
      "provenance": []
    },
    "kernelspec": {
      "name": "python3",
      "display_name": "Python 3"
    },
    "accelerator": "GPU"
  },
  "cells": [
    {
      "cell_type": "markdown",
      "metadata": {
        "id": "5QRqZA27cRUR",
        "colab_type": "text"
      },
      "source": [
        "# MNIST dataset"
      ]
    },
    {
      "cell_type": "markdown",
      "metadata": {
        "id": "fiYcTNuegZkj",
        "colab_type": "text"
      },
      "source": [
        "source 1: https://scikit-learn.org/stable/auto_examples/classification/plot_digits_classification.html\n",
        "\n",
        "source 2: https://keras.io/examples/mnist_cnn/\n",
        "\n",
        "source 3: https://scikit-learn.org/stable/auto_examples/model_selection/plot_confusion_matrix.html"
      ]
    },
    {
      "cell_type": "markdown",
      "metadata": {
        "id": "pRth3FtXcX5g",
        "colab_type": "text"
      },
      "source": [
        "## Load packages"
      ]
    },
    {
      "cell_type": "code",
      "metadata": {
        "id": "wxM8Tx1YcJaj",
        "colab_type": "code",
        "colab": {}
      },
      "source": [
        "from sklearn.linear_model import LogisticRegression\n",
        "from sklearn.metrics import confusion_matrix \n",
        "from sklearn.preprocessing import OneHotEncoder\n",
        "\n",
        "\n",
        "import pandas as pd\n",
        "import numpy as np\n",
        "\n",
        "import matplotlib.pyplot as plt\n",
        "import tensorflow as tf"
      ],
      "execution_count": 0,
      "outputs": []
    },
    {
      "cell_type": "code",
      "metadata": {
        "id": "8JOVzmrwqQsJ",
        "colab_type": "code",
        "colab": {}
      },
      "source": [
        "def plot_confusion_matrix(y_true, y_pred, classes,\n",
        "                          normalize=False,\n",
        "                          title=None,\n",
        "                          cmap=plt.cm.Blues):\n",
        "    \n",
        "    from sklearn.metrics import confusion_matrix\n",
        "    from sklearn.utils.multiclass import unique_labels\n",
        "\n",
        "    \"\"\"\n",
        "    This function prints and plots the confusion matrix.\n",
        "    Normalization can be applied by setting `normalize=True`.\n",
        "    \"\"\"\n",
        "    if not title:\n",
        "        if normalize:\n",
        "            title = 'Normalized confusion matrix'\n",
        "        else:\n",
        "            title = 'Confusion matrix, without normalization'\n",
        "\n",
        "    # Compute confusion matrix\n",
        "    cm = confusion_matrix(y_true, y_pred)\n",
        "    # Only use the labels that appear in the data\n",
        "    classes = classes[unique_labels(y_true, y_pred)]\n",
        "    if normalize:\n",
        "        cm = cm.astype('float') / cm.sum(axis=1)[:, np.newaxis]\n",
        "\n",
        "    fig, ax = plt.subplots(figsize=(8,8))\n",
        "    im = ax.imshow(cm, interpolation='nearest', cmap=cmap)\n",
        "    ax.figure.colorbar(im, ax=ax)\n",
        "    # We want to show all ticks...\n",
        "    ax.set(xticks=np.arange(cm.shape[1]),\n",
        "           yticks=np.arange(cm.shape[0]),\n",
        "           # ... and label them with the respective list entries\n",
        "           xticklabels=classes, yticklabels=classes,\n",
        "           title=title,\n",
        "           ylabel='True label',\n",
        "           xlabel='Predicted label')\n",
        "\n",
        "    # Rotate the tick labels and set their alignment.\n",
        "    plt.setp(ax.get_xticklabels(), rotation=45, ha=\"right\",\n",
        "             rotation_mode=\"anchor\")\n",
        "\n",
        "    # Loop over data dimensions and create text annotations.\n",
        "    fmt = '.2f' if normalize else 'd'\n",
        "    thresh = cm.max() / 2.\n",
        "    for i in range(cm.shape[0]):\n",
        "        for j in range(cm.shape[1]):\n",
        "            ax.text(j, i, format(cm[i, j], fmt),\n",
        "                    ha=\"center\", va=\"center\",\n",
        "                    color=\"white\" if cm[i, j] > thresh else \"black\")\n",
        "    fig.tight_layout()\n",
        "    return ax"
      ],
      "execution_count": 0,
      "outputs": []
    },
    {
      "cell_type": "markdown",
      "metadata": {
        "id": "Iu_qrFxZkKtS",
        "colab_type": "text"
      },
      "source": [
        "## Load dataset"
      ]
    },
    {
      "cell_type": "code",
      "metadata": {
        "id": "-7t-EqZ9dML4",
        "colab_type": "code",
        "outputId": "ab2a5de1-ca74-4514-cae8-8f26e574ac41",
        "colab": {
          "base_uri": "https://localhost:8080/",
          "height": 51
        }
      },
      "source": [
        "(x_train, y_train), (x_test, y_test) = tf.keras.datasets.mnist.load_data()\n",
        "n_samples, img_rows, img_cols = x_train.shape\n",
        "n_test_samples = x_test.shape[0]"
      ],
      "execution_count": 0,
      "outputs": [
        {
          "output_type": "stream",
          "text": [
            "Downloading data from https://storage.googleapis.com/tensorflow/tf-keras-datasets/mnist.npz\n",
            "11493376/11490434 [==============================] - 0s 0us/step\n"
          ],
          "name": "stdout"
        }
      ]
    },
    {
      "cell_type": "markdown",
      "metadata": {
        "id": "UcdsrUZAkNv-",
        "colab_type": "text"
      },
      "source": [
        "## Plot some numbers"
      ]
    },
    {
      "cell_type": "code",
      "metadata": {
        "id": "gv5XEiiZflzJ",
        "colab_type": "code",
        "outputId": "da61756d-b6b2-47da-bc12-5f77f0a464d6",
        "colab": {
          "base_uri": "https://localhost:8080/",
          "height": 137
        }
      },
      "source": [
        "images_and_labels = list(zip(x_train, y_train))\n",
        "for index, (image, label) in enumerate(images_and_labels[:4]):\n",
        "    plt.subplot(2, 4, index + 1)\n",
        "    plt.axis('off')\n",
        "    plt.imshow(x_train[index,:,:], cmap=plt.cm.gray_r, interpolation='nearest')\n",
        "    plt.title('Training: %i' % label)"
      ],
      "execution_count": 0,
      "outputs": [
        {
          "output_type": "display_data",
          "data": {
            "image/png": "[encoded data removed]",
            "text/plain": [
              "<Figure size 432x288 with 4 Axes>"
            ]
          },
          "metadata": {
            "tags": []
          }
        }
      ]
    },
    {
      "cell_type": "code",
      "metadata": {
        "id": "WTJxw0xbf1Wm",
        "colab_type": "code",
        "colab": {}
      },
      "source": [
        "if tf.keras.backend.image_data_format() == 'channels_first':\n",
        "    x_train = x_train.reshape(x_train.shape[0], 1, img_rows, img_cols)\n",
        "    x_test = x_test.reshape(x_test.shape[0], 1, img_rows, img_cols)\n",
        "    input_shape = (1, img_rows, img_cols)\n",
        "else:\n",
        "    x_train = x_train.reshape(x_train.shape[0], img_rows, img_cols, 1)\n",
        "    x_test = x_test.reshape(x_test.shape[0], img_rows, img_cols, 1)\n",
        "    input_shape = (img_rows, img_cols, 1)"
      ],
      "execution_count": 0,
      "outputs": []
    },
    {
      "cell_type": "code",
      "metadata": {
        "id": "ZkG7B63yiLxi",
        "colab_type": "code",
        "colab": {}
      },
      "source": [
        "x_train_flat = x_train.reshape((n_samples, -1))\n",
        "x_test_flat = x_test.reshape((n_test_samples, -1))"
      ],
      "execution_count": 0,
      "outputs": []
    },
    {
      "cell_type": "code",
      "metadata": {
        "id": "Bze9R3kTooMV",
        "colab_type": "code",
        "outputId": "58b4a152-d6a2-4f54-9717-cf8e16d84c62",
        "colab": {
          "base_uri": "https://localhost:8080/",
          "height": 125
        }
      },
      "source": [
        "ohe = OneHotEncoder()\n",
        "y_train_ohe = ohe.fit_transform(y_train.reshape(-1, 1))\n",
        "y_test_ohe = ohe.transform(y_test.reshape(-1, 1))"
      ],
      "execution_count": 0,
      "outputs": [
        {
          "output_type": "stream",
          "text": [
            "/usr/local/lib/python3.6/dist-packages/sklearn/preprocessing/_encoders.py:415: FutureWarning: The handling of integer data will change in version 0.22. Currently, the categories are determined based on the range [0, max(values)], while in the future they will be determined based on the unique values.\n",
            "If you want the future behaviour and silence this warning, you can specify \"categories='auto'\".\n",
            "In case you used a LabelEncoder before this OneHotEncoder to convert the categories to integers, then you can now use the OneHotEncoder directly.\n",
            "  warnings.warn(msg, FutureWarning)\n"
          ],
          "name": "stderr"
        }
      ]
    },
    {
      "cell_type": "markdown",
      "metadata": {
        "id": "95z8KAAPprAz",
        "colab_type": "text"
      },
      "source": [
        "## Scikit-learn LinearRegressor"
      ]
    },
    {
      "cell_type": "code",
      "metadata": {
        "id": "n7gmgdS3gfOf",
        "colab_type": "code",
        "outputId": "51adc8c3-76b2-42ae-d31c-737ae0a9de71",
        "colab": {
          "base_uri": "https://localhost:8080/",
          "height": 373
        }
      },
      "source": [
        "lr = LogisticRegression(solver='saga', n_jobs=-1, verbose=10)\n",
        "lr.fit(x_train_flat, y_train)\n",
        "\n",
        "y_pred_lr = lr.predict(x_test_flat)\n"
      ],
      "execution_count": 0,
      "outputs": [
        {
          "output_type": "stream",
          "text": [
            "/usr/local/lib/python3.6/dist-packages/sklearn/linear_model/logistic.py:469: FutureWarning: Default multi_class will be changed to 'auto' in 0.22. Specify the multi_class option to silence this warning.\n",
            "  \"this warning.\", FutureWarning)\n",
            "[Parallel(n_jobs=-1)]: Using backend ThreadingBackend with 2 concurrent workers.\n"
          ],
          "name": "stderr"
        },
        {
          "output_type": "stream",
          "text": [
            "max_iter reached after 88 seconds\n",
            "max_iter reached after 88 seconds\n"
          ],
          "name": "stdout"
        },
        {
          "output_type": "stream",
          "text": [
            "/usr/local/lib/python3.6/dist-packages/sklearn/linear_model/sag.py:337: ConvergenceWarning: The max_iter was reached which means the coef_ did not converge\n",
            "  \"the coef_ did not converge\", ConvergenceWarning)\n",
            "[Parallel(n_jobs=-1)]: Done   1 tasks      | elapsed:  1.5min\n"
          ],
          "name": "stderr"
        },
        {
          "output_type": "stream",
          "text": [
            "max_iter reached after 88 seconds\n",
            "max_iter reached after 90 seconds\n"
          ],
          "name": "stdout"
        },
        {
          "output_type": "stream",
          "text": [
            "[Parallel(n_jobs=-1)]: Done   4 tasks      | elapsed:  3.0min\n"
          ],
          "name": "stderr"
        },
        {
          "output_type": "stream",
          "text": [
            "max_iter reached after 86 seconds\n",
            "max_iter reached after 89 seconds\n",
            "max_iter reached after 87 seconds\n",
            "max_iter reached after 89 seconds\n",
            "max_iter reached after 85 seconds\n",
            "max_iter reached after 86 seconds\n"
          ],
          "name": "stdout"
        },
        {
          "output_type": "stream",
          "text": [
            "[Parallel(n_jobs=-1)]: Done  10 out of  10 | elapsed:  7.4min finished\n"
          ],
          "name": "stderr"
        }
      ]
    },
    {
      "cell_type": "markdown",
      "metadata": {
        "id": "Aq8uU0oopxPq",
        "colab_type": "text"
      },
      "source": [
        "## Keras CNN"
      ]
    },
    {
      "cell_type": "code",
      "metadata": {
        "id": "G-GrmK0AobeJ",
        "colab_type": "code",
        "outputId": "e81d2499-099e-44de-cede-fe53554ad216",
        "colab": {
          "base_uri": "https://localhost:8080/",
          "height": 1020
        }
      },
      "source": [
        "model = tf.keras.Sequential()\n",
        "model.add(tf.keras.layers.Conv2D(32, kernel_size=(3, 3),\n",
        "                 activation='relu',\n",
        "                 input_shape=input_shape))\n",
        "model.add(tf.keras.layers.Conv2D(64, (3, 3), activation='relu'))\n",
        "model.add(tf.keras.layers.MaxPooling2D(pool_size=(2, 2)))\n",
        "model.add(tf.keras.layers.Dropout(0.25))\n",
        "model.add(tf.keras.layers.Flatten())\n",
        "model.add(tf.keras.layers.Dense(128, activation='relu'))\n",
        "model.add(tf.keras.layers.Dropout(0.5))\n",
        "model.add(tf.keras.layers.Dense(10, activation='softmax'))\n",
        "        \n",
        "model.compile(loss=tf.keras.losses.categorical_crossentropy,\n",
        "              optimizer=tf.keras.optimizers.Adadelta(),\n",
        "              metrics=['accuracy'])\n",
        "\n",
        "model.fit(x_train, tf.keras.utils.to_categorical(y_train),\n",
        "          batch_size=256,\n",
        "          epochs=20,\n",
        "          verbose=1)\n",
        "\n",
        "y_pred_cnn = model.predict(x_test)"
      ],
      "execution_count": 0,
      "outputs": [
        {
          "output_type": "stream",
          "text": [
            "WARNING:tensorflow:From /usr/local/lib/python3.6/dist-packages/tensorflow/python/ops/math_ops.py:3066: to_int32 (from tensorflow.python.ops.math_ops) is deprecated and will be removed in a future version.\n",
            "Instructions for updating:\n",
            "Use tf.cast instead.\n",
            "Epoch 1/20\n",
            "60000/60000 [==============================] - 7s 122us/sample - loss: 1.1305 - acc: 0.8703\n",
            "Epoch 2/20\n",
            "60000/60000 [==============================] - 3s 54us/sample - loss: 0.1164 - acc: 0.9658\n",
            "Epoch 3/20\n",
            "60000/60000 [==============================] - 3s 54us/sample - loss: 0.0843 - acc: 0.9751\n",
            "Epoch 4/20\n",
            "60000/60000 [==============================] - 3s 54us/sample - loss: 0.0678 - acc: 0.9804\n",
            "Epoch 5/20\n",
            "60000/60000 [==============================] - 3s 54us/sample - loss: 0.0570 - acc: 0.9835\n",
            "Epoch 6/20\n",
            "60000/60000 [==============================] - 3s 54us/sample - loss: 0.0485 - acc: 0.9853\n",
            "Epoch 7/20\n",
            "60000/60000 [==============================] - 3s 54us/sample - loss: 0.0425 - acc: 0.9867\n",
            "Epoch 8/20\n",
            "60000/60000 [==============================] - 3s 55us/sample - loss: 0.0372 - acc: 0.9889\n",
            "Epoch 9/20\n",
            "60000/60000 [==============================] - 3s 55us/sample - loss: 0.0331 - acc: 0.9898\n",
            "Epoch 10/20\n",
            "60000/60000 [==============================] - 3s 55us/sample - loss: 0.0312 - acc: 0.9901\n",
            "Epoch 11/20\n",
            "60000/60000 [==============================] - 3s 54us/sample - loss: 0.0284 - acc: 0.9912\n",
            "Epoch 12/20\n",
            "60000/60000 [==============================] - 3s 55us/sample - loss: 0.0251 - acc: 0.9926\n",
            "Epoch 13/20\n",
            "60000/60000 [==============================] - 3s 54us/sample - loss: 0.0230 - acc: 0.9926\n",
            "Epoch 14/20\n",
            "60000/60000 [==============================] - 3s 55us/sample - loss: 0.0244 - acc: 0.9923\n",
            "Epoch 15/20\n",
            "60000/60000 [==============================] - 3s 56us/sample - loss: 0.0190 - acc: 0.9943\n",
            "Epoch 16/20\n",
            "60000/60000 [==============================] - 3s 56us/sample - loss: 0.0193 - acc: 0.9936\n",
            "Epoch 17/20\n",
            "60000/60000 [==============================] - 3s 56us/sample - loss: 0.0195 - acc: 0.9941\n",
            "Epoch 18/20\n",
            "60000/60000 [==============================] - 3s 55us/sample - loss: 0.0179 - acc: 0.9945\n",
            "Epoch 19/20\n",
            "60000/60000 [==============================] - 3s 55us/sample - loss: 0.0166 - acc: 0.9952\n",
            "Epoch 20/20\n",
            "60000/60000 [==============================] - 3s 55us/sample - loss: 0.0168 - acc: 0.9949\n"
          ],
          "name": "stdout"
        }
      ]
    },
    {
      "cell_type": "code",
      "metadata": {
        "id": "AiWMZ_bYiaIw",
        "colab_type": "code",
        "outputId": "b3f8b12c-e86b-4c51-fff1-ea856760b5e2",
        "colab": {
          "base_uri": "https://localhost:8080/",
          "height": 585
        }
      },
      "source": [
        "plot_confusion_matrix(y_test, y_pred_lr, classes=np.array([i for i in range(0,10)]), normalize=True,\n",
        "                      title='Normalized confusion matrix')\n",
        "\n",
        "plt.show()"
      ],
      "execution_count": 0,
      "outputs": [
        {
          "output_type": "display_data",
          "data": {
            "image/png": "[encoded data removed]",
            "text/plain": [
              "<Figure size 576x576 with 2 Axes>"
            ]
          },
          "metadata": {
            "tags": []
          }
        }
      ]
    },
    {
      "cell_type": "code",
      "metadata": {
        "id": "T5uTtGlatWu3",
        "colab_type": "code",
        "outputId": "a523d871-ffc0-4c60-ab9d-f239d9bb5ed5",
        "colab": {
          "base_uri": "https://localhost:8080/",
          "height": 585
        }
      },
      "source": [
        "plot_confusion_matrix(y_test, ohe.inverse_transform(y_pred_cnn), classes=np.array([i for i in range(0,10)]), normalize=True,\n",
        "                      title='Normalized confusion matrix')\n",
        "\n",
        "plt.show()"
      ],
      "execution_count": 0,
      "outputs": [
        {
          "output_type": "display_data",
          "data": {
            "image/png": "[encoded data removed]",
            "text/plain": [
              "<Figure size 576x576 with 2 Axes>"
            ]
          },
          "metadata": {
            "tags": []
          }
        }
      ]
    },
    {
      "cell_type": "code",
      "metadata": {
        "id": "sCfXBn7cwbmn",
        "colab_type": "code",
        "outputId": "c723602b-8d5a-4e21-8aa7-897a54d1ad53",
        "colab": {
          "base_uri": "https://localhost:8080/",
          "height": 136
        }
      },
      "source": [
        "y_test_ohe.toarray()"
      ],
      "execution_count": 0,
      "outputs": [
        {
          "output_type": "execute_result",
          "data": {
            "text/plain": [
              "array([[0., 0., 0., ..., 1., 0., 0.],\n",
              "       [0., 0., 1., ..., 0., 0., 0.],\n",
              "       [0., 1., 0., ..., 0., 0., 0.],\n",
              "       ...,\n",
              "       [0., 0., 0., ..., 0., 0., 0.],\n",
              "       [0., 0., 0., ..., 0., 0., 0.],\n",
              "       [0., 0., 0., ..., 0., 0., 0.]])"
            ]
          },
          "metadata": {
            "tags": []
          },
          "execution_count": 27
        }
      ]
    },
    {
      "cell_type": "code",
      "metadata": {
        "id": "Md-_PBaKwlS9",
        "colab_type": "code",
        "outputId": "14a19834-3c58-456f-96c0-d36bca3653ca",
        "colab": {
          "base_uri": "https://localhost:8080/",
          "height": 357
        }
      },
      "source": [
        "ohe.inverse_transform(y_pred_cnn)[:20]"
      ],
      "execution_count": 0,
      "outputs": [
        {
          "output_type": "execute_result",
          "data": {
            "text/plain": [
              "array([[7.],\n",
              "       [2.],\n",
              "       [1.],\n",
              "       [0.],\n",
              "       [4.],\n",
              "       [1.],\n",
              "       [4.],\n",
              "       [9.],\n",
              "       [5.],\n",
              "       [9.],\n",
              "       [0.],\n",
              "       [6.],\n",
              "       [9.],\n",
              "       [0.],\n",
              "       [1.],\n",
              "       [5.],\n",
              "       [9.],\n",
              "       [7.],\n",
              "       [3.],\n",
              "       [4.]])"
            ]
          },
          "metadata": {
            "tags": []
          },
          "execution_count": 38
        }
      ]
    },
    {
      "cell_type": "code",
      "metadata": {
        "id": "3qx3pc7Pw4Aj",
        "colab_type": "code",
        "outputId": "463e9569-52b9-44fb-dae7-38292106c5e6",
        "colab": {
          "base_uri": "https://localhost:8080/",
          "height": 51
        }
      },
      "source": [
        "y_test[:20]"
      ],
      "execution_count": 0,
      "outputs": [
        {
          "output_type": "execute_result",
          "data": {
            "text/plain": [
              "array([7, 2, 1, 0, 4, 1, 4, 9, 5, 9, 0, 6, 9, 0, 1, 5, 9, 7, 3, 4],\n",
              "      dtype=uint8)"
            ]
          },
          "metadata": {
            "tags": []
          },
          "execution_count": 37
        }
      ]
    },
    {
      "cell_type": "code",
      "metadata": {
        "id": "Ni3REYP6xO0w",
        "colab_type": "code",
        "colab": {}
      },
      "source": [
        ""
      ],
      "execution_count": 0,
      "outputs": []
    }
  ]
}