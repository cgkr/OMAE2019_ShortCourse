{
  "nbformat": 4,
  "nbformat_minor": 0,
  "metadata": {
    "colab": {
      "name": "MNIST_DNN_class.ipynb",
      "version": "0.3.2",
      "provenance": []
    },
    "kernelspec": {
      "name": "python3",
      "display_name": "Python 3"
    },
    "accelerator": "GPU"
  },
  "cells": [
    {
      "cell_type": "markdown",
      "metadata": {
        "id": "5QRqZA27cRUR",
        "colab_type": "text"
      },
      "source": [
        "# MNIST dataset"
      ]
    },
    {
      "cell_type": "markdown",
      "metadata": {
        "id": "fiYcTNuegZkj",
        "colab_type": "text"
      },
      "source": [
        "source 1: https://scikit-learn.org/stable/auto_examples/classification/plot_digits_classification.html\n",
        "\n",
        "source 2: https://keras.io/examples/mnist_cnn/\n",
        "\n",
        "source 3: https://scikit-learn.org/stable/auto_examples/model_selection/plot_confusion_matrix.html"
      ]
    },
    {
      "cell_type": "markdown",
      "metadata": {
        "id": "pRth3FtXcX5g",
        "colab_type": "text"
      },
      "source": [
        "## Load packages"
      ]
    },
    {
      "cell_type": "code",
      "metadata": {
        "id": "wxM8Tx1YcJaj",
        "colab_type": "code",
        "colab": {}
      },
      "source": [
        "from sklearn.linear_model import LogisticRegression\n",
        "from sklearn.metrics import confusion_matrix \n",
        "from sklearn.preprocessing import OneHotEncoder\n",
        "\n",
        "\n",
        "import pandas as pd\n",
        "import numpy as np\n",
        "\n",
        "import matplotlib.pyplot as plt\n",
        "import tensorflow as tf"
      ],
      "execution_count": 0,
      "outputs": []
    },
    {
      "cell_type": "code",
      "metadata": {
        "id": "8JOVzmrwqQsJ",
        "colab_type": "code",
        "colab": {}
      },
      "source": [
        "def plot_confusion_matrix(y_true, y_pred, classes,\n",
        "                          normalize=False,\n",
        "                          title=None,\n",
        "                          cmap=plt.cm.Blues):\n",
        "    \n",
        "    from sklearn.metrics import confusion_matrix\n",
        "    from sklearn.utils.multiclass import unique_labels\n",
        "\n",
        "    \"\"\"\n",
        "    This function prints and plots the confusion matrix.\n",
        "    Normalization can be applied by setting `normalize=True`.\n",
        "    \"\"\"\n",
        "    if not title:\n",
        "        if normalize:\n",
        "            title = 'Normalized confusion matrix'\n",
        "        else:\n",
        "            title = 'Confusion matrix, without normalization'\n",
        "\n",
        "    # Compute confusion matrix\n",
        "    cm = confusion_matrix(y_true, y_pred)\n",
        "    # Only use the labels that appear in the data\n",
        "    classes = classes[unique_labels(y_true, y_pred)]\n",
        "    if normalize:\n",
        "        cm = cm.astype('float') / cm.sum(axis=1)[:, np.newaxis]\n",
        "\n",
        "    fig, ax = plt.subplots(figsize=(8,8))\n",
        "    im = ax.imshow(cm, interpolation='nearest', cmap=cmap)\n",
        "    ax.figure.colorbar(im, ax=ax)\n",
        "    # We want to show all ticks...\n",
        "    ax.set(xticks=np.arange(cm.shape[1]),\n",
        "           yticks=np.arange(cm.shape[0]),\n",
        "           # ... and label them with the respective list entries\n",
        "           xticklabels=classes, yticklabels=classes,\n",
        "           title=title,\n",
        "           ylabel='True label',\n",
        "           xlabel='Predicted label')\n",
        "\n",
        "    # Rotate the tick labels and set their alignment.\n",
        "    plt.setp(ax.get_xticklabels(), rotation=45, ha=\"right\",\n",
        "             rotation_mode=\"anchor\")\n",
        "\n",
        "    # Loop over data dimensions and create text annotations.\n",
        "    fmt = '.2f' if normalize else 'd'\n",
        "    thresh = cm.max() / 2.\n",
        "    for i in range(cm.shape[0]):\n",
        "        for j in range(cm.shape[1]):\n",
        "            ax.text(j, i, format(cm[i, j], fmt),\n",
        "                    ha=\"center\", va=\"center\",\n",
        "                    color=\"white\" if cm[i, j] > thresh else \"black\")\n",
        "    fig.tight_layout()\n",
        "    return ax"
      ],
      "execution_count": 0,
      "outputs": []
    },
    {
      "cell_type": "markdown",
      "metadata": {
        "id": "Iu_qrFxZkKtS",
        "colab_type": "text"
      },
      "source": [
        "## Load dataset"
      ]
    },
    {
      "cell_type": "code",
      "metadata": {
        "id": "-7t-EqZ9dML4",
        "colab_type": "code",
        "colab": {}
      },
      "source": [
        "(x_train, y_train), (x_test, y_test) = tf.keras.datasets.mnist.load_data()\n",
        "n_samples, img_rows, img_cols = x_train.shape\n",
        "n_test_samples = x_test.shape[0]"
      ],
      "execution_count": 0,
      "outputs": []
    },
    {
      "cell_type": "code",
      "metadata": {
        "id": "WTJxw0xbf1Wm",
        "colab_type": "code",
        "colab": {}
      },
      "source": [
        "if tf.keras.backend.image_data_format() == 'channels_first':\n",
        "    x_train = x_train.reshape(x_train.shape[0], 1, img_rows, img_cols)\n",
        "    x_test = x_test.reshape(x_test.shape[0], 1, img_rows, img_cols)\n",
        "    input_shape = (1, img_rows, img_cols)\n",
        "else:\n",
        "    x_train = x_train.reshape(x_train.shape[0], img_rows, img_cols, 1)\n",
        "    x_test = x_test.reshape(x_test.shape[0], img_rows, img_cols, 1)\n",
        "    input_shape = (img_rows, img_cols, 1)"
      ],
      "execution_count": 0,
      "outputs": []
    },
    {
      "cell_type": "code",
      "metadata": {
        "id": "ZkG7B63yiLxi",
        "colab_type": "code",
        "colab": {}
      },
      "source": [
        "x_train_flat = x_train.reshape((n_samples, -1))\n",
        "x_test_flat = x_test.reshape((n_test_samples, -1))"
      ],
      "execution_count": 0,
      "outputs": []
    },
    {
      "cell_type": "code",
      "metadata": {
        "id": "Bze9R3kTooMV",
        "colab_type": "code",
        "outputId": "332c620d-5ff4-4094-9afa-6583d1cec865",
        "colab": {
          "base_uri": "https://localhost:8080/",
          "height": 125
        }
      },
      "source": [
        "ohe = OneHotEncoder()\n",
        "y_train_ohe = ohe.fit_transform(y_train.reshape(-1, 1))\n",
        "y_test_ohe = ohe.transform(y_test.reshape(-1, 1))"
      ],
      "execution_count": 6,
      "outputs": [
        {
          "output_type": "stream",
          "text": [
            "/usr/local/lib/python3.6/dist-packages/sklearn/preprocessing/_encoders.py:415: FutureWarning: The handling of integer data will change in version 0.22. Currently, the categories are determined based on the range [0, max(values)], while in the future they will be determined based on the unique values.\n",
            "If you want the future behaviour and silence this warning, you can specify \"categories='auto'\".\n",
            "In case you used a LabelEncoder before this OneHotEncoder to convert the categories to integers, then you can now use the OneHotEncoder directly.\n",
            "  warnings.warn(msg, FutureWarning)\n"
          ],
          "name": "stderr"
        }
      ]
    },
    {
      "cell_type": "markdown",
      "metadata": {
        "id": "Aq8uU0oopxPq",
        "colab_type": "text"
      },
      "source": [
        "## Keras CNN"
      ]
    },
    {
      "cell_type": "code",
      "metadata": {
        "id": "G-GrmK0AobeJ",
        "colab_type": "code",
        "outputId": "0e1b452e-fa1e-49a7-d39f-f2700b5af5b8",
        "colab": {
          "base_uri": "https://localhost:8080/",
          "height": 1020
        }
      },
      "source": [
        "model = tf.keras.Sequential()\n",
        "model.add(tf.keras.layers.Conv2D(32, kernel_size=(3, 3),\n",
        "                 activation='relu',\n",
        "                 input_shape=input_shape))\n",
        "model.add(tf.keras.layers.Conv2D(64, (3, 3), activation='relu'))\n",
        "model.add(tf.keras.layers.MaxPooling2D(pool_size=(2, 2)))\n",
        "model.add(tf.keras.layers.Dropout(0.25))\n",
        "model.add(tf.keras.layers.Flatten())\n",
        "model.add(tf.keras.layers.Dense(128, activation='relu'))\n",
        "model.add(tf.keras.layers.Dropout(0.5))\n",
        "model.add(tf.keras.layers.Dense(10, activation='softmax'))\n",
        "        \n",
        "model.compile(loss=tf.keras.losses.categorical_crossentropy,\n",
        "              optimizer=tf.keras.optimizers.Adadelta(),\n",
        "              metrics=['accuracy'])\n",
        "\n",
        "model.fit(x_train, tf.keras.utils.to_categorical(y_train),\n",
        "          batch_size=256,\n",
        "          epochs=20,\n",
        "          verbose=1)\n",
        "\n",
        "y_pred_cnn = model.predict(x_test)"
      ],
      "execution_count": 7,
      "outputs": [
        {
          "output_type": "stream",
          "text": [
            "WARNING:tensorflow:From /usr/local/lib/python3.6/dist-packages/tensorflow/python/ops/resource_variable_ops.py:435: colocate_with (from tensorflow.python.framework.ops) is deprecated and will be removed in a future version.\n",
            "Instructions for updating:\n",
            "Colocations handled automatically by placer.\n",
            "WARNING:tensorflow:From /usr/local/lib/python3.6/dist-packages/tensorflow/python/keras/layers/core.py:143: calling dropout (from tensorflow.python.ops.nn_ops) with keep_prob is deprecated and will be removed in a future version.\n",
            "Instructions for updating:\n",
            "Please use `rate` instead of `keep_prob`. Rate should be set to `rate = 1 - keep_prob`.\n",
            "WARNING:tensorflow:From /usr/local/lib/python3.6/dist-packages/tensorflow/python/ops/math_ops.py:3066: to_int32 (from tensorflow.python.ops.math_ops) is deprecated and will be removed in a future version.\n",
            "Instructions for updating:\n",
            "Use tf.cast instead.\n",
            "Epoch 1/20\n",
            "60000/60000 [==============================] - 7s 115us/sample - loss: 2.0640 - acc: 0.8097\n",
            "Epoch 2/20\n",
            "60000/60000 [==============================] - 3s 54us/sample - loss: 0.1371 - acc: 0.9600\n",
            "Epoch 3/20\n",
            "60000/60000 [==============================] - 3s 54us/sample - loss: 0.0959 - acc: 0.9729\n",
            "Epoch 4/20\n",
            "60000/60000 [==============================] - 3s 54us/sample - loss: 0.0771 - acc: 0.9776\n",
            "Epoch 5/20\n",
            "60000/60000 [==============================] - 3s 54us/sample - loss: 0.0633 - acc: 0.9812\n",
            "Epoch 6/20\n",
            "60000/60000 [==============================] - 3s 54us/sample - loss: 0.0535 - acc: 0.9841\n",
            "Epoch 7/20\n",
            "60000/60000 [==============================] - 3s 55us/sample - loss: 0.0482 - acc: 0.9855\n",
            "Epoch 8/20\n",
            "60000/60000 [==============================] - 3s 55us/sample - loss: 0.0423 - acc: 0.9872\n",
            "Epoch 9/20\n",
            "60000/60000 [==============================] - 3s 55us/sample - loss: 0.0349 - acc: 0.9892\n",
            "Epoch 10/20\n",
            "60000/60000 [==============================] - 3s 55us/sample - loss: 0.0339 - acc: 0.9898\n",
            "Epoch 11/20\n",
            "60000/60000 [==============================] - 3s 55us/sample - loss: 0.0301 - acc: 0.9908\n",
            "Epoch 12/20\n",
            "60000/60000 [==============================] - 3s 55us/sample - loss: 0.0276 - acc: 0.9913\n",
            "Epoch 13/20\n",
            "60000/60000 [==============================] - 3s 55us/sample - loss: 0.0267 - acc: 0.9916\n",
            "Epoch 14/20\n",
            "60000/60000 [==============================] - 3s 55us/sample - loss: 0.0223 - acc: 0.9931\n",
            "Epoch 15/20\n",
            "60000/60000 [==============================] - 3s 55us/sample - loss: 0.0226 - acc: 0.9931\n",
            "Epoch 16/20\n",
            "60000/60000 [==============================] - 3s 55us/sample - loss: 0.0209 - acc: 0.9930\n",
            "Epoch 17/20\n",
            "60000/60000 [==============================] - 3s 55us/sample - loss: 0.0205 - acc: 0.9933\n",
            "Epoch 18/20\n",
            "60000/60000 [==============================] - 3s 55us/sample - loss: 0.0189 - acc: 0.9940\n",
            "Epoch 19/20\n",
            "60000/60000 [==============================] - 3s 55us/sample - loss: 0.0172 - acc: 0.9946\n",
            "Epoch 20/20\n",
            "60000/60000 [==============================] - 3s 56us/sample - loss: 0.0174 - acc: 0.9947\n"
          ],
          "name": "stdout"
        }
      ]
    },
    {
      "cell_type": "code",
      "metadata": {
        "id": "T5uTtGlatWu3",
        "colab_type": "code",
        "outputId": "a523d871-ffc0-4c60-ab9d-f239d9bb5ed5",
        "colab": {
          "base_uri": "https://localhost:8080/",
          "height": 585
        }
      },
      "source": [
        "plot_confusion_matrix(y_test, ohe.inverse_transform(y_pred_cnn), classes=np.array([i for i in range(0,10)]), normalize=True,\n",
        "                      title='Normalized confusion matrix')\n",
        "\n",
        "plt.show()"
      ],
      "execution_count": 0,
      "outputs": [
        {
          "output_type": "display_data",
          "data": {
            "image/png": "[encoded data removed]",
            "text/plain": [
              "<Figure size 576x576 with 2 Axes>"
            ]
          },
          "metadata": {
            "tags": []
          }
        }
      ]
    }
  ]
}