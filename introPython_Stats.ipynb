{
  "nbformat": 4,
  "nbformat_minor": 0,
  "metadata": {
    "colab": {
      "name": "01_intro-stats.ipynb",
      "version": "0.3.2",
      "provenance": [],
      "collapsed_sections": []
    },
    "language_info": {
      "codemirror_mode": {
        "name": "ipython",
        "version": 3
      },
      "file_extension": ".py",
      "mimetype": "text/x-python",
      "name": "python",
      "nbconvert_exporter": "python",
      "pygments_lexer": "ipython3",
      "version": "3.7.3"
    },
    "kernelspec": {
      "display_name": "Python 3",
      "language": "python",
      "name": "python3"
    }
  },
  "cells": [
    {
      "cell_type": "markdown",
      "metadata": {
        "id": "UrG9-5hc8xXL",
        "colab_type": "text"
      },
      "source": [
        "# Introductory statistics in Python"
      ]
    },
    {
      "cell_type": "code",
      "metadata": {
        "ExecuteTime": {
          "end_time": "2019-05-27T14:09:42.907994Z",
          "start_time": "2019-05-27T14:09:42.170524Z"
        },
        "id": "Qc8aI2SF8xXO",
        "colab_type": "code",
        "colab": {}
      },
      "source": [
        "import pandas as pd\n",
        "import numpy as np\n",
        "from scipy import stats\n",
        "import matplotlib.pyplot as plt"
      ],
      "execution_count": 0,
      "outputs": []
    },
    {
      "cell_type": "markdown",
      "metadata": {
        "id": "ppb7eHa0_Z3Q",
        "colab_type": "text"
      },
      "source": [
        "## Load dataset"
      ]
    },
    {
      "cell_type": "code",
      "metadata": {
        "id": "Z6hxR6Pn_36F",
        "colab_type": "code",
        "outputId": "17e9c778-7b06-49c8-fd6a-a8a0ff81de35",
        "colab": {
          "base_uri": "https://localhost:8080/",
          "height": 206
        }
      },
      "source": [
        "url = 'https://datahub.io/machine-learning/iris/r/iris.csv'\n",
        "df = pd.read_csv(url)\n",
        "\n",
        "# preview 5 first elements of df\n",
        "df.head()  "
      ],
      "execution_count": 0,
      "outputs": [
        {
          "output_type": "execute_result",
          "data": {
            "text/html": [
              "<div>\n",
              "<style scoped>\n",
              "    .dataframe tbody tr th:only-of-type {\n",
              "        vertical-align: middle;\n",
              "    }\n",
              "\n",
              "    .dataframe tbody tr th {\n",
              "        vertical-align: top;\n",
              "    }\n",
              "\n",
              "    .dataframe thead th {\n",
              "        text-align: right;\n",
              "    }\n",
              "</style>\n",
              "<table border=\"1\" class=\"dataframe\">\n",
              "  <thead>\n",
              "    <tr style=\"text-align: right;\">\n",
              "      <th></th>\n",
              "      <th>sepallength</th>\n",
              "      <th>sepalwidth</th>\n",
              "      <th>petallength</th>\n",
              "      <th>petalwidth</th>\n",
              "      <th>class</th>\n",
              "    </tr>\n",
              "  </thead>\n",
              "  <tbody>\n",
              "    <tr>\n",
              "      <th>0</th>\n",
              "      <td>5.1</td>\n",
              "      <td>3.5</td>\n",
              "      <td>1.4</td>\n",
              "      <td>0.2</td>\n",
              "      <td>Iris-setosa</td>\n",
              "    </tr>\n",
              "    <tr>\n",
              "      <th>1</th>\n",
              "      <td>4.9</td>\n",
              "      <td>3.0</td>\n",
              "      <td>1.4</td>\n",
              "      <td>0.2</td>\n",
              "      <td>Iris-setosa</td>\n",
              "    </tr>\n",
              "    <tr>\n",
              "      <th>2</th>\n",
              "      <td>4.7</td>\n",
              "      <td>3.2</td>\n",
              "      <td>1.3</td>\n",
              "      <td>0.2</td>\n",
              "      <td>Iris-setosa</td>\n",
              "    </tr>\n",
              "    <tr>\n",
              "      <th>3</th>\n",
              "      <td>4.6</td>\n",
              "      <td>3.1</td>\n",
              "      <td>1.5</td>\n",
              "      <td>0.2</td>\n",
              "      <td>Iris-setosa</td>\n",
              "    </tr>\n",
              "    <tr>\n",
              "      <th>4</th>\n",
              "      <td>5.0</td>\n",
              "      <td>3.6</td>\n",
              "      <td>1.4</td>\n",
              "      <td>0.2</td>\n",
              "      <td>Iris-setosa</td>\n",
              "    </tr>\n",
              "  </tbody>\n",
              "</table>\n",
              "</div>"
            ],
            "text/plain": [
              "   sepallength  sepalwidth  petallength  petalwidth        class\n",
              "0          5.1         3.5          1.4         0.2  Iris-setosa\n",
              "1          4.9         3.0          1.4         0.2  Iris-setosa\n",
              "2          4.7         3.2          1.3         0.2  Iris-setosa\n",
              "3          4.6         3.1          1.5         0.2  Iris-setosa\n",
              "4          5.0         3.6          1.4         0.2  Iris-setosa"
            ]
          },
          "metadata": {
            "tags": []
          },
          "execution_count": 25
        }
      ]
    },
    {
      "cell_type": "code",
      "metadata": {
        "id": "7g5glTM9B6Wk",
        "colab_type": "code",
        "outputId": "1fb016f8-09af-4f4e-895d-458beccb7d70",
        "colab": {
          "base_uri": "https://localhost:8080/",
          "height": 127
        }
      },
      "source": [
        "# Assign sepal length feature to variable x\n",
        "x = df['sepallength']\n",
        "\n",
        "# preview 5 first elements of x\n",
        "x[0:5]"
      ],
      "execution_count": 0,
      "outputs": [
        {
          "output_type": "execute_result",
          "data": {
            "text/plain": [
              "0    5.1\n",
              "1    4.9\n",
              "2    4.7\n",
              "3    4.6\n",
              "4    5.0\n",
              "Name: sepallength, dtype: float64"
            ]
          },
          "metadata": {
            "tags": []
          },
          "execution_count": 26
        }
      ]
    },
    {
      "cell_type": "markdown",
      "metadata": {
        "id": "5aZJcxQkaTb3",
        "colab_type": "text"
      },
      "source": [
        "## min/max values"
      ]
    },
    {
      "cell_type": "code",
      "metadata": {
        "id": "Noc8QkMbaT9Y",
        "colab_type": "code",
        "outputId": "41208b6a-87e0-4400-b2a7-cdca7d11f46f",
        "colab": {
          "base_uri": "https://localhost:8080/",
          "height": 54
        }
      },
      "source": [
        "min_x = x.min()\n",
        "max_x = x.max()\n",
        "\n",
        "# print min/max\n",
        "print(f\"\"\"x min = {min_x:.3f} \n",
        "x max = {max_x:.3f}\"\"\")"
      ],
      "execution_count": 0,
      "outputs": [
        {
          "output_type": "stream",
          "text": [
            "x min = 4.300 \n",
            "x max = 7.900\n"
          ],
          "name": "stdout"
        }
      ]
    },
    {
      "cell_type": "markdown",
      "metadata": {
        "id": "hDNjFwxmABby",
        "colab_type": "text"
      },
      "source": [
        "## Produce histogram of x"
      ]
    },
    {
      "cell_type": "code",
      "metadata": {
        "ExecuteTime": {
          "end_time": "2019-05-27T14:09:43.858231Z",
          "start_time": "2019-05-27T14:09:43.578260Z"
        },
        "id": "GMqK7cRP8xXZ",
        "colab_type": "code",
        "outputId": "8b98c397-5d1b-4462-bdc3-ed7e5ef4704b",
        "colab": {
          "base_uri": "https://localhost:8080/",
          "height": 283
        }
      },
      "source": [
        "# create histogram\n",
        "bin_edges = np.arange(min_x-1, max_x+1, 0.5)\n",
        "plt.hist(x, bins=bin_edges)\n",
        "\n",
        "# add plot labels\n",
        "plt.xlabel('sepal length (cm)')\n",
        "plt.ylabel('count')\n",
        "  \n",
        "# show figure\n",
        "plt.show()"
      ],
      "execution_count": 0,
      "outputs": [
        {
          "output_type": "display_data",
          "data": {
            "image/png": "[encoded data removed]",
            "text/plain": [
              "<Figure size 432x288 with 1 Axes>"
            ]
          },
          "metadata": {
            "tags": []
          }
        }
      ]
    },
    {
      "cell_type": "markdown",
      "metadata": {
        "id": "si9pnyFL8xXq",
        "colab_type": "text"
      },
      "source": [
        "### Sample Mean:\n",
        "\n",
        "$$\\bar{x} = \\frac{1}{n}\\sum_{i=1}^n = x_i$$"
      ]
    },
    {
      "cell_type": "code",
      "metadata": {
        "ExecuteTime": {
          "end_time": "2019-05-27T14:09:46.812892Z",
          "start_time": "2019-05-27T14:09:46.807682Z"
        },
        "id": "sAsAscR08xXr",
        "colab_type": "code",
        "outputId": "5d76ce3e-f792-4e8b-8330-2d93909d320d",
        "colab": {
          "base_uri": "https://localhost:8080/",
          "height": 54
        }
      },
      "source": [
        "# mean from scratch\n",
        "mean_1 = (1/len(x)) * sum(x)\n",
        "\n",
        "# mean through numpy\n",
        "mean_2 = np.mean(x)\n",
        "\n",
        "# print both\n",
        "print(f\"\"\"mean from scratch = {mean_1:.3f} \n",
        "mean through numpy = {mean_2:.3f}\"\"\")"
      ],
      "execution_count": 0,
      "outputs": [
        {
          "output_type": "stream",
          "text": [
            "mean from scratch = 5.843 \n",
            "mean through numpy = 5.843\n"
          ],
          "name": "stdout"
        }
      ]
    },
    {
      "cell_type": "code",
      "metadata": {
        "ExecuteTime": {
          "end_time": "2019-05-27T14:09:48.785035Z",
          "start_time": "2019-05-27T14:09:48.549058Z"
        },
        "id": "0ZMjXnPl8xX5",
        "colab_type": "code",
        "outputId": "107ff401-b6bd-43ec-b06b-c85d371a3fdb",
        "colab": {
          "base_uri": "https://localhost:8080/",
          "height": 283
        }
      },
      "source": [
        "# create histogram\n",
        "min_x = x.min()\n",
        "max_x = x.max()\n",
        "bin_edges = np.arange(min_x-1, max_x+1, 0.5)\n",
        "plt.hist(x, bins=bin_edges)\n",
        "\n",
        "# add plot labels\n",
        "plt.xlabel('sepal length (cm)')\n",
        "plt.ylabel('count')\n",
        "  \n",
        "# plot mean line\n",
        "plt.axvline(mean_1, color='crimson', label='$\\mu$')\n",
        "\n",
        "# include legend\n",
        "plt.legend()\n",
        "\n",
        "# show figure\n",
        "plt.show()"
      ],
      "execution_count": 0,
      "outputs": [
        {
          "output_type": "display_data",
          "data": {
            "image/png": "[encoded data removed]",
            "text/plain": [
              "<Figure size 432x288 with 1 Axes>"
            ]
          },
          "metadata": {
            "tags": []
          }
        }
      ]
    },
    {
      "cell_type": "markdown",
      "metadata": {
        "id": "I9kulfx98xYB",
        "colab_type": "text"
      },
      "source": [
        "### Sample Variance:\n",
        "\n",
        "$$Var_x = \\frac{1}{n-1}\\sum_{i=1}^n (x_i - \\bar{x})^2$$"
      ]
    },
    {
      "cell_type": "markdown",
      "metadata": {
        "id": "eP-c4O4j8xYE",
        "colab_type": "text"
      },
      "source": [
        "Note that the `cm` units of the variable now become `cm`$^2$"
      ]
    },
    {
      "cell_type": "code",
      "metadata": {
        "id": "bEmYC6P-8xYI",
        "colab_type": "code",
        "outputId": "9ab28412-287d-41b7-bb77-83e105ba2e33",
        "colab": {
          "base_uri": "https://localhost:8080/",
          "height": 72
        }
      },
      "source": [
        "# variance from scratch\n",
        "x_mean = np.mean(x)\n",
        "var_1 = sum([(i - x_mean)**2 for i in x]) / (len(x) - 1)\n",
        "\n",
        "# variance through numpy\n",
        "var_2 = np.var(x, ddof=1)\n",
        "# Note: ddof Means Delta Degrees of Freedom. The divisor used in calculations is\n",
        "# N - ddof, where N represents the number of elements.\n",
        "\n",
        "#variance through Pandas\n",
        "var_3 = df['sepallength'].var()\n",
        "\n",
        "# print all\n",
        "print(f\"\"\"variance from scratch = {var_1:.3f} \n",
        "variance through numpy = {var_2:.3f}\n",
        "variance through Pandas = {var_3:.3f}\"\"\")"
      ],
      "execution_count": 0,
      "outputs": [
        {
          "output_type": "stream",
          "text": [
            "variance from scratch = 0.686 \n",
            "variance through numpy = 0.686\n",
            "variance through Pandas = 0.686\n"
          ],
          "name": "stdout"
        }
      ]
    },
    {
      "cell_type": "code",
      "metadata": {
        "id": "ToMJFyRX8xYg",
        "colab_type": "code",
        "outputId": "0c1b9934-d546-4e1f-9b79-f3d8b1343501",
        "colab": {
          "base_uri": "https://localhost:8080/",
          "height": 283
        }
      },
      "source": [
        "# create histogram\n",
        "min_x = x.min()\n",
        "max_x = x.max()\n",
        "bin_edges = np.arange(min_x-1, max_x+1, 0.5)\n",
        "plt.hist(x, bins=bin_edges)\n",
        "\n",
        "# add plot labels\n",
        "plt.xlabel('sepal length (cm)')\n",
        "plt.ylabel('count')\n",
        "  \n",
        "# plot mean line\n",
        "plt.axvline(mean_1, color='crimson', label='$\\mu$')\n",
        "\n",
        "# plot var lines\n",
        "plt.axvline(x_mean + var_1, color='darkorange', label='$\\pm \\sigma^2$')\n",
        "plt.axvline(x_mean - var_1, color='darkorange')\n",
        "\n",
        "# include legend\n",
        "plt.legend()\n",
        "\n",
        "# show figure\n",
        "plt.show()"
      ],
      "execution_count": 0,
      "outputs": [
        {
          "output_type": "display_data",
          "data": {
            "image/png": "[encoded data removed]",
            "text/plain": [
              "<Figure size 432x288 with 1 Axes>"
            ]
          },
          "metadata": {
            "tags": []
          }
        }
      ]
    },
    {
      "cell_type": "markdown",
      "metadata": {
        "id": "KLMos7mz8xYn",
        "colab_type": "text"
      },
      "source": [
        "### Sample Standard Deviation:\n",
        "\n",
        "$$Std_x = \\sqrt{\\frac{1}{n-1}{\\sum_{i=1}^n (x_i - \\bar{x})^2}}$$"
      ]
    },
    {
      "cell_type": "code",
      "metadata": {
        "id": "P5oWb0mV8xYp",
        "colab_type": "code",
        "outputId": "b845623f-1b32-40f2-eed4-c3e100b5884d",
        "colab": {
          "base_uri": "https://localhost:8080/",
          "height": 90
        }
      },
      "source": [
        "# std from scratch\n",
        "x_mean = np.mean(x)\n",
        "std_1 = (sum([(i - x_mean)**2 for i in x]) / (len(x) - 1))**0.5\n",
        "\n",
        "# std through numpy\n",
        "std_2 = np.std(x, ddof=1)\n",
        "# Note: ddof Means Delta Degrees of Freedom. The divisor used in calculations is\n",
        "# N - ddof, where N represents the number of elements.\n",
        "\n",
        "# std through Pandas\n",
        "std_3 = df['sepallength'].std()\n",
        "\n",
        "# std through sqrt root\n",
        "std_4 = np.sqrt(var_1)\n",
        "\n",
        "# print all\n",
        "print(f\"\"\"std from scratch = {std_1:.3f} \n",
        "std through numpy = {std_2:.3f}\n",
        "std through Pandas = {std_3:.3f}\n",
        "std through sqrt root = {std_4:.3f}\"\"\")"
      ],
      "execution_count": 0,
      "outputs": [
        {
          "output_type": "stream",
          "text": [
            "std from scratch = 0.828 \n",
            "std through numpy = 0.828\n",
            "std through Pandas = 0.828\n",
            "std through sqrt root = 0.828\n"
          ],
          "name": "stdout"
        }
      ]
    },
    {
      "cell_type": "code",
      "metadata": {
        "id": "tP5JMDk68xZK",
        "colab_type": "code",
        "outputId": "0353ce5d-13f4-4720-e6ca-1363ef457b9e",
        "colab": {
          "base_uri": "https://localhost:8080/",
          "height": 283
        }
      },
      "source": [
        "# create histogram\n",
        "min_x = x.min()\n",
        "max_x = x.max()\n",
        "bin_edges = np.arange(min_x-1, max_x+1, 0.5)\n",
        "plt.hist(x, bins=bin_edges)\n",
        "\n",
        "# add plot labels\n",
        "plt.xlabel('sepal length (cm)')\n",
        "plt.ylabel('count')\n",
        "  \n",
        "# plot mean line\n",
        "plt.axvline(mean_1, color='crimson', label='$\\mu$')\n",
        "\n",
        "# plot var lines\n",
        "plt.axvline(x_mean + std_1, color='darkorange', label='$\\pm \\sigma$')\n",
        "plt.axvline(x_mean - std_1, color='darkorange')\n",
        "\n",
        "# include legend\n",
        "plt.legend()\n",
        "\n",
        "# show figure\n",
        "plt.show()"
      ],
      "execution_count": 0,
      "outputs": [
        {
          "output_type": "display_data",
          "data": {
            "image/png": "[encoded data removed]",
            "text/plain": [
              "<Figure size 432x288 with 1 Axes>"
            ]
          },
          "metadata": {
            "tags": []
          }
        }
      ]
    },
    {
      "cell_type": "markdown",
      "metadata": {
        "id": "BK-Irr4B8xZi",
        "colab_type": "text"
      },
      "source": [
        "### Mode:"
      ]
    },
    {
      "cell_type": "code",
      "metadata": {
        "id": "eI4bSHRK8xZj",
        "colab_type": "code",
        "outputId": "13bd72dc-35be-4740-9d3c-3bdac9b7681a",
        "colab": {
          "base_uri": "https://localhost:8080/",
          "height": 54
        }
      },
      "source": [
        "# mode from scratch\n",
        "lst = list(x)\n",
        "mode_1 = max(set(lst), key=lst.count)\n",
        "\n",
        "# mode through scipy\n",
        "mode_2 = stats.mode(x)\n",
        "\n",
        "# print both\n",
        "print(f\"\"\"mode from scratch = {mode_1:.3f} \n",
        "mode through scipy = {mode_2[0][0]:.3f}\"\"\")"
      ],
      "execution_count": 0,
      "outputs": [
        {
          "output_type": "stream",
          "text": [
            "mode from scratch = 5.000 \n",
            "mode through scipy = 5.000\n"
          ],
          "name": "stdout"
        }
      ]
    },
    {
      "cell_type": "markdown",
      "metadata": {
        "id": "h6J9BICV8xZ8",
        "colab_type": "text"
      },
      "source": [
        "### 25th and 75th Percentile:"
      ]
    },
    {
      "cell_type": "code",
      "metadata": {
        "id": "m3uGAmHzcJyo",
        "colab_type": "code",
        "outputId": "545e4301-0962-4a4a-eda7-4192506e25bd",
        "colab": {
          "base_uri": "https://localhost:8080/",
          "height": 72
        }
      },
      "source": [
        "# q1/q3 from scratch\n",
        "y = np.sort(x)\n",
        "q1_1 = y[round(0.25 * y.shape[0]) + 1]\n",
        "q3_1 = y[round(0.75 * y.shape[0]) - 1]\n",
        "\n",
        "# q1/q3 through numpy\n",
        "q1_2, q3_2 = np.percentile(x, q=[25, 75], interpolation='lower')\n",
        "# Note: ddof Means Delta Degrees of Freedom. The divisor used in calculations is\n",
        "# N - ddof, where N represents the number of elements.\n",
        "\n",
        "# q1/q3 through Pandas\n",
        "q1_3 = df['sepallength'].quantile(0.25, interpolation='lower')\n",
        "q3_3 = df['sepallength'].quantile(0.75, interpolation='lower')\n",
        "\n",
        "# print all\n",
        "print(f\"\"\"q1/q3 from scratch = {q1_1:.3f}/{q3_1:.3f} \n",
        "q1/q3 through numpy = {q1_2:.3f}/{q3_2:.3f} \n",
        "q1/q3 through Pandas = {q1_3:.3f}/{q3_3:.3f} \"\"\")"
      ],
      "execution_count": 0,
      "outputs": [
        {
          "output_type": "stream",
          "text": [
            "q1/q3 from scratch = 5.100/6.400 \n",
            "q1/q3 through numpy = 5.100/6.400 \n",
            "q1/q3 through Pandas = 5.100/6.400 \n"
          ],
          "name": "stdout"
        }
      ]
    },
    {
      "cell_type": "code",
      "metadata": {
        "id": "k-QrBJI28xab",
        "colab_type": "code",
        "outputId": "bc2b4796-4954-42f1-fd97-c7d43c95ca91",
        "colab": {
          "base_uri": "https://localhost:8080/",
          "height": 283
        }
      },
      "source": [
        "# create histogram\n",
        "min_x = x.min()\n",
        "max_x = x.max()\n",
        "bin_edges = np.arange(min_x-1, max_x+1, 0.5)\n",
        "plt.hist(x, bins=bin_edges)\n",
        "\n",
        "# add plot labels\n",
        "plt.xlabel('sepal length (cm)')\n",
        "plt.ylabel('count')\n",
        "  \n",
        "# plot q1/q3 lines\n",
        "plt.axvline(q1_1, color='crimson', label='Q1')\n",
        "plt.axvline(q3_1, color='darkgreen', label='Q3')\n",
        "\n",
        "# include legend\n",
        "plt.legend()\n",
        "\n",
        "# show figure\n",
        "plt.show()"
      ],
      "execution_count": 0,
      "outputs": [
        {
          "output_type": "display_data",
          "data": {
            "image/png": "[encoded data removed]",
            "text/plain": [
              "<Figure size 432x288 with 1 Axes>"
            ]
          },
          "metadata": {
            "tags": []
          }
        }
      ]
    },
    {
      "cell_type": "markdown",
      "metadata": {
        "id": "vKcnf0l88xag",
        "colab_type": "text"
      },
      "source": [
        "### Median (50th Percentile):"
      ]
    },
    {
      "cell_type": "code",
      "metadata": {
        "id": "zK3sDNl-dvwN",
        "colab_type": "code",
        "outputId": "1d86c245-b165-4cd9-ec0c-67145c517978",
        "colab": {
          "base_uri": "https://localhost:8080/",
          "height": 72
        }
      },
      "source": [
        "# median from scratch\n",
        "y = np.sort(x)\n",
        "\n",
        "tmp = round(0.5 * y.shape[0])\n",
        "\n",
        "if y.shape[0] % 2:\n",
        "    median_1 = y[tmp - 1]\n",
        "else:\n",
        "    median_1 = y[tmp - 1] + (y[tmp] - y[tmp - 1]) / 2\n",
        "\n",
        "# median through numpy\n",
        "median_2 = np.median(x)\n",
        "# Note: ddof Means Delta Degrees of Freedom. The divisor used in calculations is\n",
        "# N - ddof, where N represents the number of elements.\n",
        "\n",
        "# median through Pandas\n",
        "median_3 = df['sepallength'].median()\n",
        "\n",
        "\n",
        "# print all\n",
        "print(f\"\"\"median from scratch = {median_1:.3f}\n",
        "median through numpy = {median_2:.3f} \n",
        "median through Pandas = {median_3:.3f}\"\"\")"
      ],
      "execution_count": 0,
      "outputs": [
        {
          "output_type": "stream",
          "text": [
            "median from scratch = 5.800\n",
            "median through numpy = 5.800 \n",
            "median through Pandas = 5.800\n"
          ],
          "name": "stdout"
        }
      ]
    },
    {
      "cell_type": "code",
      "metadata": {
        "id": "rB9xmCVs8xaq",
        "colab_type": "code",
        "outputId": "1c484eed-a8bf-4518-f0f0-a79e9f14c791",
        "colab": {
          "base_uri": "https://localhost:8080/",
          "height": 283
        }
      },
      "source": [
        "# create histogram\n",
        "min_x = x.min()\n",
        "max_x = x.max()\n",
        "bin_edges = np.arange(min_x-1, max_x+1, 0.5)\n",
        "plt.hist(x, bins=bin_edges)\n",
        "\n",
        "# add plot labels\n",
        "plt.xlabel('sepal length (cm)')\n",
        "plt.ylabel('count')\n",
        "  \n",
        "# plot q1/q3 lines\n",
        "plt.axvline(median_1, color='crimson', label='median')\n",
        "\n",
        "# include legend\n",
        "plt.legend()\n",
        "\n",
        "# show figure\n",
        "plt.show()"
      ],
      "execution_count": 0,
      "outputs": [
        {
          "output_type": "display_data",
          "data": {
            "image/png": "[encoded data removed]",
            "text/plain": [
              "<Figure size 432x288 with 1 Axes>"
            ]
          },
          "metadata": {
            "tags": []
          }
        }
      ]
    }
  ]
}
